{
 "cells": [
  {
   "cell_type": "code",
   "execution_count": 1,
   "metadata": {},
   "outputs": [],
   "source": [
    "#Importing libraries\n",
    "import pandas as pd\n",
    "import numpy as np\n",
    "from sklearn import preprocessing\n",
    "import matplotlib.pyplot as plt \n",
    "plt.rc(\"font\", size=14)\n",
    "from sklearn.model_selection import train_test_split\n",
    "import seaborn as sns\n",
    "sns.set(style=\"white\")\n",
    "sns.set(style=\"whitegrid\", color_codes=True)\n",
    "\n",
    "import warnings\n",
    "warnings.filterwarnings('ignore')"
   ]
  },
  {
   "cell_type": "code",
   "execution_count": 2,
   "metadata": {},
   "outputs": [],
   "source": [
    "#create data drame to read data set\n",
    "data = pd.read_csv('new_dataset.csv',sep=';',index_col=0)"
   ]
  },
  {
   "cell_type": "code",
   "execution_count": 3,
   "metadata": {},
   "outputs": [
    {
     "data": {
      "text/html": [
       "<div>\n",
       "<style scoped>\n",
       "    .dataframe tbody tr th:only-of-type {\n",
       "        vertical-align: middle;\n",
       "    }\n",
       "\n",
       "    .dataframe tbody tr th {\n",
       "        vertical-align: top;\n",
       "    }\n",
       "\n",
       "    .dataframe thead th {\n",
       "        text-align: right;\n",
       "    }\n",
       "</style>\n",
       "<table border=\"1\" class=\"dataframe\">\n",
       "  <thead>\n",
       "    <tr style=\"text-align: right;\">\n",
       "      <th></th>\n",
       "      <th>age</th>\n",
       "      <th>last_contact_duration</th>\n",
       "      <th>contacts_per_campaign</th>\n",
       "      <th>N_last_days</th>\n",
       "      <th>nb_previous_contact</th>\n",
       "      <th>emp_var_rate</th>\n",
       "      <th>cons_price_index</th>\n",
       "      <th>cons_conf_index</th>\n",
       "      <th>euri_3_month</th>\n",
       "      <th>nb_employees</th>\n",
       "      <th>...</th>\n",
       "      <th>month_sep</th>\n",
       "      <th>week_day_fri</th>\n",
       "      <th>week_day_mon</th>\n",
       "      <th>week_day_thu</th>\n",
       "      <th>week_day_tue</th>\n",
       "      <th>week_day_wed</th>\n",
       "      <th>previous_outcome_failure</th>\n",
       "      <th>previous_outcome_nonexistent</th>\n",
       "      <th>previous_outcome_success</th>\n",
       "      <th>target</th>\n",
       "    </tr>\n",
       "  </thead>\n",
       "  <tbody>\n",
       "    <tr>\n",
       "      <th>0</th>\n",
       "      <td>37</td>\n",
       "      <td>195</td>\n",
       "      <td>1</td>\n",
       "      <td>999</td>\n",
       "      <td>0</td>\n",
       "      <td>-1.8</td>\n",
       "      <td>92.893</td>\n",
       "      <td>-46.2</td>\n",
       "      <td>1.327</td>\n",
       "      <td>5099.1</td>\n",
       "      <td>...</td>\n",
       "      <td>0</td>\n",
       "      <td>0</td>\n",
       "      <td>0</td>\n",
       "      <td>1</td>\n",
       "      <td>0</td>\n",
       "      <td>0</td>\n",
       "      <td>0</td>\n",
       "      <td>1</td>\n",
       "      <td>0</td>\n",
       "      <td>no</td>\n",
       "    </tr>\n",
       "    <tr>\n",
       "      <th>1</th>\n",
       "      <td>54</td>\n",
       "      <td>214</td>\n",
       "      <td>1</td>\n",
       "      <td>999</td>\n",
       "      <td>0</td>\n",
       "      <td>-3.4</td>\n",
       "      <td>92.431</td>\n",
       "      <td>-26.9</td>\n",
       "      <td>0.754</td>\n",
       "      <td>5017.5</td>\n",
       "      <td>...</td>\n",
       "      <td>0</td>\n",
       "      <td>0</td>\n",
       "      <td>0</td>\n",
       "      <td>1</td>\n",
       "      <td>0</td>\n",
       "      <td>0</td>\n",
       "      <td>0</td>\n",
       "      <td>1</td>\n",
       "      <td>0</td>\n",
       "      <td>no</td>\n",
       "    </tr>\n",
       "    <tr>\n",
       "      <th>2</th>\n",
       "      <td>49</td>\n",
       "      <td>813</td>\n",
       "      <td>2</td>\n",
       "      <td>999</td>\n",
       "      <td>0</td>\n",
       "      <td>1.1</td>\n",
       "      <td>93.994</td>\n",
       "      <td>-36.4</td>\n",
       "      <td>4.856</td>\n",
       "      <td>5191.0</td>\n",
       "      <td>...</td>\n",
       "      <td>0</td>\n",
       "      <td>0</td>\n",
       "      <td>0</td>\n",
       "      <td>0</td>\n",
       "      <td>1</td>\n",
       "      <td>0</td>\n",
       "      <td>0</td>\n",
       "      <td>1</td>\n",
       "      <td>0</td>\n",
       "      <td>no</td>\n",
       "    </tr>\n",
       "    <tr>\n",
       "      <th>3</th>\n",
       "      <td>30</td>\n",
       "      <td>51</td>\n",
       "      <td>3</td>\n",
       "      <td>999</td>\n",
       "      <td>0</td>\n",
       "      <td>1.1</td>\n",
       "      <td>93.994</td>\n",
       "      <td>-36.4</td>\n",
       "      <td>4.856</td>\n",
       "      <td>5191.0</td>\n",
       "      <td>...</td>\n",
       "      <td>0</td>\n",
       "      <td>0</td>\n",
       "      <td>0</td>\n",
       "      <td>0</td>\n",
       "      <td>0</td>\n",
       "      <td>1</td>\n",
       "      <td>0</td>\n",
       "      <td>1</td>\n",
       "      <td>0</td>\n",
       "      <td>no</td>\n",
       "    </tr>\n",
       "    <tr>\n",
       "      <th>4</th>\n",
       "      <td>23</td>\n",
       "      <td>359</td>\n",
       "      <td>1</td>\n",
       "      <td>999</td>\n",
       "      <td>0</td>\n",
       "      <td>1.4</td>\n",
       "      <td>94.465</td>\n",
       "      <td>-41.8</td>\n",
       "      <td>4.961</td>\n",
       "      <td>5228.1</td>\n",
       "      <td>...</td>\n",
       "      <td>0</td>\n",
       "      <td>0</td>\n",
       "      <td>0</td>\n",
       "      <td>1</td>\n",
       "      <td>0</td>\n",
       "      <td>0</td>\n",
       "      <td>0</td>\n",
       "      <td>1</td>\n",
       "      <td>0</td>\n",
       "      <td>no</td>\n",
       "    </tr>\n",
       "  </tbody>\n",
       "</table>\n",
       "<p>5 rows × 62 columns</p>\n",
       "</div>"
      ],
      "text/plain": [
       "   age  last_contact_duration  contacts_per_campaign  N_last_days  \\\n",
       "0   37                    195                      1          999   \n",
       "1   54                    214                      1          999   \n",
       "2   49                    813                      2          999   \n",
       "3   30                     51                      3          999   \n",
       "4   23                    359                      1          999   \n",
       "\n",
       "   nb_previous_contact  emp_var_rate  cons_price_index  cons_conf_index  \\\n",
       "0                    0          -1.8            92.893            -46.2   \n",
       "1                    0          -3.4            92.431            -26.9   \n",
       "2                    0           1.1            93.994            -36.4   \n",
       "3                    0           1.1            93.994            -36.4   \n",
       "4                    0           1.4            94.465            -41.8   \n",
       "\n",
       "   euri_3_month  nb_employees  ...  month_sep  week_day_fri  week_day_mon  \\\n",
       "0         1.327        5099.1  ...          0             0             0   \n",
       "1         0.754        5017.5  ...          0             0             0   \n",
       "2         4.856        5191.0  ...          0             0             0   \n",
       "3         4.856        5191.0  ...          0             0             0   \n",
       "4         4.961        5228.1  ...          0             0             0   \n",
       "\n",
       "   week_day_thu  week_day_tue  week_day_wed  previous_outcome_failure  \\\n",
       "0             1             0             0                         0   \n",
       "1             1             0             0                         0   \n",
       "2             0             1             0                         0   \n",
       "3             0             0             1                         0   \n",
       "4             1             0             0                         0   \n",
       "\n",
       "   previous_outcome_nonexistent  previous_outcome_success  target  \n",
       "0                             1                         0      no  \n",
       "1                             1                         0      no  \n",
       "2                             1                         0      no  \n",
       "3                             1                         0      no  \n",
       "4                             1                         0      no  \n",
       "\n",
       "[5 rows x 62 columns]"
      ]
     },
     "execution_count": 3,
     "metadata": {},
     "output_type": "execute_result"
    }
   ],
   "source": [
    "data.head()"
   ]
  },
  {
   "cell_type": "code",
   "execution_count": 4,
   "metadata": {},
   "outputs": [],
   "source": [
    "X = data.iloc[:,0:61]  #independent columns\n",
    "y = data.iloc[:,-1]    #target column "
   ]
  },
  {
   "cell_type": "code",
   "execution_count": 5,
   "metadata": {},
   "outputs": [
    {
     "data": {
      "text/plain": [
       "ExtraTreesClassifier()"
      ]
     },
     "execution_count": 5,
     "metadata": {},
     "output_type": "execute_result"
    }
   ],
   "source": [
    "#Applying feature selection technique\n",
    "from sklearn.ensemble import ExtraTreesClassifier\n",
    "\n",
    "model = ExtraTreesClassifier()\n",
    "model.fit(X,y)"
   ]
  },
  {
   "cell_type": "code",
   "execution_count": 6,
   "metadata": {},
   "outputs": [
    {
     "name": "stdout",
     "output_type": "stream",
     "text": [
      "[2.21058745e-02 1.11119854e-01 1.60791210e-02 2.09130859e-02\n",
      " 4.43678476e-03 3.83687896e-02 1.05711908e-02 1.38615522e-02\n",
      " 6.92845394e-02 4.34670523e-02 1.68238409e-02 2.70002094e-02\n",
      " 3.38319966e-03 2.27420042e-03 7.26212370e-03 3.33765994e-03\n",
      " 3.45090421e-03 1.01580463e-02 2.28330313e-03 1.75731727e-02\n",
      " 2.64174666e-03 1.04237588e-03 1.48773548e-02 1.93321844e-02\n",
      " 2.01570037e-02 3.73663495e-04 2.62631368e-02 2.67472146e-02\n",
      " 4.95723953e-05 1.63644589e-02 2.36237821e-02 5.92626182e-03\n",
      " 2.16979848e-02 2.59067640e-02 4.77323094e-06 2.55260076e-02\n",
      " 3.91215948e-03 2.79759220e-02 9.00655620e-03 3.44425610e-03\n",
      " 1.00713714e-02 1.92098382e-02 3.42614836e-02 7.11670718e-03\n",
      " 6.86531865e-03 5.88462224e-04 6.94024108e-03 4.66581856e-03\n",
      " 1.56135613e-03 2.88009556e-02 9.60638356e-03 3.93827984e-03\n",
      " 1.55331230e-03 2.03218704e-02 2.50614829e-02 1.73065992e-02\n",
      " 1.53337762e-02 1.66701632e-02 1.52280559e-02 2.28734829e-02\n",
      " 1.33973569e-02]\n"
     ]
    }
   ],
   "source": [
    "print(model.feature_importances_)"
   ]
  },
  {
   "cell_type": "code",
   "execution_count": 7,
   "metadata": {},
   "outputs": [
    {
     "data": {
      "image/png": "[encoded data removed]",
      "text/plain": [
       "<Figure size 432x288 with 1 Axes>"
      ]
     },
     "metadata": {},
     "output_type": "display_data"
    }
   ],
   "source": [
    "#plot graph of feature importances for better visualization\n",
    "feat_importances = pd.Series(model.feature_importances_, index=X.columns)\n",
    "feat_importances.nlargest(10).plot(kind='barh')\n",
    "plt.show()"
   ]
  },
  {
   "cell_type": "markdown",
   "metadata": {},
   "source": [
    "Creating dataset with the above mentioned features for training the model "
   ]
  },
  {
   "cell_type": "code",
   "execution_count": null,
   "metadata": {},
   "outputs": [],
   "source": []
  }
 ],
 "metadata": {
  "kernelspec": {
   "display_name": "Python 3",
   "language": "python",
   "name": "python3"
  },
  "language_info": {
   "codemirror_mode": {
    "name": "ipython",
    "version": 3
   },
   "file_extension": ".py",
   "mimetype": "text/x-python",
   "name": "python",
   "nbconvert_exporter": "python",
   "pygments_lexer": "ipython3",
   "version": "3.8.1"
  }
 },
 "nbformat": 4,
 "nbformat_minor": 4
}
